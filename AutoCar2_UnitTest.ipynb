{
 "cells": [
  {
   "cell_type": "markdown",
   "metadata": {},
   "source": [
    "# 차량 제어"
   ]
  },
  {
   "cell_type": "code",
   "execution_count": null,
   "metadata": {},
   "outputs": [],
   "source": [
    "from pop.Pilot import AutoCar\n",
    "import ipywidgets as widgets\n",
    "from threading import Thread\n",
    "\n",
    "autocar = AutoCar()"
   ]
  },
  {
   "cell_type": "code",
   "execution_count": null,
   "metadata": {},
   "outputs": [],
   "source": [
    "driving = widgets.Dropdown(options=[('Stop', 1), ('Forward', 2), ('Backward', 3)], value=1, description='Driving')\n",
    "steer = widgets.FloatSlider(min=-1, max=1, description='Steer')\n",
    "speed = widgets.IntSlider(min=30, max=99, description='Speed')\n",
    "display(driving, steer, speed)"
   ]
  },
  {
   "cell_type": "code",
   "execution_count": null,
   "metadata": {},
   "outputs": [],
   "source": [
    "def drive_loop():\n",
    "    while cont:\n",
    "        if driving.value == 1:\n",
    "            autocar.stop()\n",
    "        elif driving.value == 2:\n",
    "            autocar.forward(speed.value)\n",
    "        elif driving.value == 3:\n",
    "            autocar.backward(speed.value)\n",
    "\n",
    "        autocar.steering = steer.value"
   ]
  },
  {
   "cell_type": "code",
   "execution_count": null,
   "metadata": {},
   "outputs": [],
   "source": [
    "cont = True\n",
    "Thread(target=drive_loop).start()"
   ]
  },
  {
   "cell_type": "code",
   "execution_count": null,
   "metadata": {},
   "outputs": [],
   "source": [
    "cont = False"
   ]
  },
  {
   "cell_type": "code",
   "execution_count": null,
   "metadata": {},
   "outputs": [],
   "source": [
    "autocar.forward(90)"
   ]
  },
  {
   "cell_type": "code",
   "execution_count": null,
   "metadata": {},
   "outputs": [],
   "source": [
    "autocar.joystick()"
   ]
  },
  {
   "cell_type": "code",
   "execution_count": null,
   "metadata": {},
   "outputs": [],
   "source": [
    "autocar.stop()"
   ]
  },
  {
   "cell_type": "markdown",
   "metadata": {},
   "source": [
    "<br>\n",
    "\n",
    "# 카메라"
   ]
  },
  {
   "cell_type": "code",
   "execution_count": null,
   "metadata": {},
   "outputs": [],
   "source": [
    "import ipywidgets as widgets\n",
    "from pop.Pilot import AutoCar\n",
    "from threading import Thread\n",
    "\n",
    "autocar = AutoCar()"
   ]
  },
  {
   "cell_type": "code",
   "execution_count": null,
   "metadata": {},
   "outputs": [],
   "source": [
    "pan = widgets.IntSlider(min=0, max=180, description='Pan')\n",
    "tilt = widgets.IntSlider(max=120, description='Tilt')\n",
    "display(pan, tilt)"
   ]
  },
  {
   "cell_type": "code",
   "execution_count": null,
   "metadata": {},
   "outputs": [],
   "source": [
    "def pan_tilt_loop():\n",
    "    while cont:\n",
    "        autocar.camPan(pan.value)\n",
    "        autocar.camTilt(tilt.value)"
   ]
  },
  {
   "cell_type": "code",
   "execution_count": null,
   "metadata": {},
   "outputs": [],
   "source": [
    "cont = True\n",
    "Thread(target=pan_tilt_loop).start()"
   ]
  },
  {
   "cell_type": "code",
   "execution_count": null,
   "metadata": {},
   "outputs": [],
   "source": [
    "cont = False"
   ]
  },
  {
   "cell_type": "code",
   "execution_count": null,
   "metadata": {},
   "outputs": [],
   "source": [
    "autocar.camPan(90)\n",
    "autocar.camTilt(0)"
   ]
  },
  {
   "cell_type": "code",
   "execution_count": null,
   "metadata": {},
   "outputs": [],
   "source": [
    "from pop import Camera\n",
    "cam = Camera(300,300)"
   ]
  },
  {
   "cell_type": "code",
   "execution_count": null,
   "metadata": {},
   "outputs": [],
   "source": [
    "cam.show()"
   ]
  },
  {
   "cell_type": "code",
   "execution_count": null,
   "metadata": {},
   "outputs": [],
   "source": [
    "cam.stop()"
   ]
  },
  {
   "cell_type": "markdown",
   "metadata": {},
   "source": [
    "<br>\n",
    "\n",
    "# Cds 센서"
   ]
  },
  {
   "cell_type": "code",
   "execution_count": null,
   "metadata": {},
   "outputs": [],
   "source": [
    "import ipywidgets as widgets\n",
    "from pop.Pilot import AutoCar\n",
    "from threading import Thread\n",
    "\n",
    "autocar = AutoCar()\n",
    "autocar.setSensorStatus(cds=1) "
   ]
  },
  {
   "cell_type": "code",
   "execution_count": null,
   "metadata": {},
   "outputs": [],
   "source": [
    "cds = widgets.IntSlider(min=0, max=5000)\n",
    "display(cds)"
   ]
  },
  {
   "cell_type": "code",
   "execution_count": null,
   "metadata": {},
   "outputs": [],
   "source": [
    "def cds_loop():\n",
    "    while cont:\n",
    "        cds.value = autocar.getLight()"
   ]
  },
  {
   "cell_type": "code",
   "execution_count": null,
   "metadata": {},
   "outputs": [],
   "source": [
    "cont = True\n",
    "Thread(target=cds_loop).start()"
   ]
  },
  {
   "cell_type": "code",
   "execution_count": null,
   "metadata": {},
   "outputs": [],
   "source": [
    "cont = False"
   ]
  },
  {
   "cell_type": "markdown",
   "metadata": {},
   "source": [
    "<br>\n",
    "\n",
    "# 조명"
   ]
  },
  {
   "cell_type": "code",
   "execution_count": null,
   "metadata": {},
   "outputs": [],
   "source": [
    "import ipywidgets as widgets\n",
    "from pop.Pilot import AutoCar\n",
    "from threading import Thread\n",
    "import time\n",
    "\n",
    "autocar = AutoCar()"
   ]
  },
  {
   "cell_type": "code",
   "execution_count": null,
   "metadata": {},
   "outputs": [],
   "source": [
    "front = widgets.IntSlider(min=0, max=1, description=\"front\")\n",
    "rear = widgets.IntSlider(min=0, max=1, description=\"rear\")\n",
    "display(front, rear)"
   ]
  },
  {
   "cell_type": "code",
   "execution_count": null,
   "metadata": {},
   "outputs": [],
   "source": [
    "def led_loop():\n",
    "    while cont:\n",
    "        autocar.setLamp(front.value, rear.value)"
   ]
  },
  {
   "cell_type": "code",
   "execution_count": null,
   "metadata": {},
   "outputs": [],
   "source": [
    "cont = True\n",
    "Thread(target=led_loop).start()"
   ]
  },
  {
   "cell_type": "code",
   "execution_count": null,
   "metadata": {},
   "outputs": [],
   "source": [
    "cont = False"
   ]
  },
  {
   "cell_type": "code",
   "execution_count": null,
   "metadata": {},
   "outputs": [],
   "source": [
    "number = widgets.IntSlider(min=0, max=8, description=\"number\")\n",
    "red = widgets.IntSlider(min=0, max=255, description=\"red\")\n",
    "green = widgets.IntSlider(min=0, max=255, description=\"green\")\n",
    "blue = widgets.IntSlider(min=0, max=255, description=\"blue\")\n",
    "display(number, red, green, blue)"
   ]
  },
  {
   "cell_type": "code",
   "execution_count": null,
   "metadata": {},
   "outputs": [],
   "source": [
    "def pixel_loop():\n",
    "    while cont:\n",
    "        autocar.setPixelDisplay(2**number.value, red.value, green.value, blue.value)\n",
    "        time.sleep(.01)\n",
    "        #autocar.setPixelDisplay(256, 0, 0, 0)"
   ]
  },
  {
   "cell_type": "code",
   "execution_count": null,
   "metadata": {},
   "outputs": [],
   "source": [
    "cont = True\n",
    "Thread(target=pixel_loop).start()"
   ]
  },
  {
   "cell_type": "code",
   "execution_count": null,
   "metadata": {},
   "outputs": [],
   "source": [
    "cont = False\n",
    "autocar.setPixelDisplay(256, 0, 0, 0)"
   ]
  },
  {
   "cell_type": "code",
   "execution_count": null,
   "metadata": {},
   "outputs": [],
   "source": [
    "autocar.setPixelDisplay(2**0 + 2**1, [[0,50,0], [0,0,50]])"
   ]
  },
  {
   "cell_type": "code",
   "execution_count": null,
   "metadata": {},
   "outputs": [],
   "source": [
    "autocar.setPixelDisplay(256, 0, 0, 0)"
   ]
  },
  {
   "cell_type": "markdown",
   "metadata": {},
   "source": [
    "<br>\n",
    "\n",
    "# 9축 센서"
   ]
  },
  {
   "cell_type": "code",
   "execution_count": null,
   "metadata": {},
   "outputs": [],
   "source": [
    "import ipywidgets as widgets\n",
    "from pop.Pilot import AutoCar\n",
    "from threading import Thread\n",
    "\n",
    "autocar = AutoCar()"
   ]
  },
  {
   "cell_type": "code",
   "execution_count": null,
   "metadata": {},
   "outputs": [],
   "source": [
    "autocar.setSensorStatus(axis9=1, euler=1, gravity=1) "
   ]
  },
  {
   "cell_type": "code",
   "execution_count": 6,
   "metadata": {},
   "outputs": [
    {
     "data": {
      "application/vnd.jupyter.widget-view+json": {
       "model_id": "c7405485d7d842c89001a6d5daf2d77b",
       "version_major": 2,
       "version_minor": 0
      },
      "text/plain": [
       "FloatSlider(value=0.0, description='Acc_X', max=500.0, min=-500.0)"
      ]
     },
     "metadata": {},
     "output_type": "display_data"
    },
    {
     "data": {
      "application/vnd.jupyter.widget-view+json": {
       "model_id": "bd0437db9ad844e68a449fa14072fe97",
       "version_major": 2,
       "version_minor": 0
      },
      "text/plain": [
       "FloatSlider(value=0.0, description='Acc_Y', max=500.0, min=-500.0)"
      ]
     },
     "metadata": {},
     "output_type": "display_data"
    },
    {
     "data": {
      "application/vnd.jupyter.widget-view+json": {
       "model_id": "365782cc30814da7ba1740ebb32a4bc7",
       "version_major": 2,
       "version_minor": 0
      },
      "text/plain": [
       "FloatSlider(value=0.0, description='Acc_Z', max=500.0, min=-500.0)"
      ]
     },
     "metadata": {},
     "output_type": "display_data"
    },
    {
     "data": {
      "application/vnd.jupyter.widget-view+json": {
       "model_id": "e465cda2b3e64468838f330d8317109c",
       "version_major": 2,
       "version_minor": 0
      },
      "text/plain": [
       "FloatSlider(value=0.0, description='Gyro_X', max=500.0, min=-500.0)"
      ]
     },
     "metadata": {},
     "output_type": "display_data"
    },
    {
     "data": {
      "application/vnd.jupyter.widget-view+json": {
       "model_id": "cdde20e98a5f42f0921a51ec3cc7426a",
       "version_major": 2,
       "version_minor": 0
      },
      "text/plain": [
       "FloatSlider(value=0.0, description='Gyro_Y', max=500.0, min=-500.0)"
      ]
     },
     "metadata": {},
     "output_type": "display_data"
    },
    {
     "data": {
      "application/vnd.jupyter.widget-view+json": {
       "model_id": "0e96f1de0fcf41f886261ad9ef0dd252",
       "version_major": 2,
       "version_minor": 0
      },
      "text/plain": [
       "FloatSlider(value=0.0, description='Gyro_Z', max=500.0, min=-500.0)"
      ]
     },
     "metadata": {},
     "output_type": "display_data"
    },
    {
     "data": {
      "application/vnd.jupyter.widget-view+json": {
       "model_id": "78e1d1e9965741bcbc54649e3621dabd",
       "version_major": 2,
       "version_minor": 0
      },
      "text/plain": [
       "FloatSlider(value=0.0, description='Magnetic_X', max=500.0, min=-500.0)"
      ]
     },
     "metadata": {},
     "output_type": "display_data"
    },
    {
     "data": {
      "application/vnd.jupyter.widget-view+json": {
       "model_id": "62cbcdf4fa094327ad18ffc82ccc3303",
       "version_major": 2,
       "version_minor": 0
      },
      "text/plain": [
       "FloatSlider(value=0.0, description='Magnetic_Y', max=500.0, min=-500.0)"
      ]
     },
     "metadata": {},
     "output_type": "display_data"
    },
    {
     "data": {
      "application/vnd.jupyter.widget-view+json": {
       "model_id": "9007fd98deb546d7a59211a99c1fe57a",
       "version_major": 2,
       "version_minor": 0
      },
      "text/plain": [
       "FloatSlider(value=0.0, description='Magnetic_Z', max=500.0, min=-500.0)"
      ]
     },
     "metadata": {},
     "output_type": "display_data"
    },
    {
     "data": {
      "application/vnd.jupyter.widget-view+json": {
       "model_id": "9513286ee6164225b66448dc590844a7",
       "version_major": 2,
       "version_minor": 0
      },
      "text/plain": [
       "FloatSlider(value=0.0, description='Euler_X', max=500.0, min=-500.0)"
      ]
     },
     "metadata": {},
     "output_type": "display_data"
    },
    {
     "data": {
      "application/vnd.jupyter.widget-view+json": {
       "model_id": "0f97c7c770084d48aa6817cc4e61c7c8",
       "version_major": 2,
       "version_minor": 0
      },
      "text/plain": [
       "FloatSlider(value=0.0, description='Euler_Y', max=500.0, min=-500.0)"
      ]
     },
     "metadata": {},
     "output_type": "display_data"
    },
    {
     "data": {
      "application/vnd.jupyter.widget-view+json": {
       "model_id": "79d6f4f8627f4d1fb9a123b578caa2ac",
       "version_major": 2,
       "version_minor": 0
      },
      "text/plain": [
       "FloatSlider(value=0.0, description='Euler_Z', max=500.0, min=-500.0)"
      ]
     },
     "metadata": {},
     "output_type": "display_data"
    },
    {
     "data": {
      "application/vnd.jupyter.widget-view+json": {
       "model_id": "a0aba228580246b1a194e7870448c6ee",
       "version_major": 2,
       "version_minor": 0
      },
      "text/plain": [
       "FloatSlider(value=0.0, description='Gravity_X', max=500.0, min=-500.0)"
      ]
     },
     "metadata": {},
     "output_type": "display_data"
    },
    {
     "data": {
      "application/vnd.jupyter.widget-view+json": {
       "model_id": "e5df3e3ca6f848e6b8bfad73d259e66d",
       "version_major": 2,
       "version_minor": 0
      },
      "text/plain": [
       "FloatSlider(value=0.0, description='Gravity_Y', max=500.0, min=-500.0)"
      ]
     },
     "metadata": {},
     "output_type": "display_data"
    },
    {
     "data": {
      "application/vnd.jupyter.widget-view+json": {
       "model_id": "9ea563bdada24ecf9d68c84141527dce",
       "version_major": 2,
       "version_minor": 0
      },
      "text/plain": [
       "FloatSlider(value=0.0, description='Gravity_Z', max=500.0, min=-500.0)"
      ]
     },
     "metadata": {},
     "output_type": "display_data"
    }
   ],
   "source": [
    "accX=widgets.FloatSlider(min=-500, max=500, description=\"Acc_X\")\n",
    "accY=widgets.FloatSlider(min=-500, max=500, description=\"Acc_Y\")\n",
    "accZ=widgets.FloatSlider(min=-500, max=500, description=\"Acc_Z\")\n",
    "gyroX=widgets.FloatSlider(min=-500, max=500, description=\"Gyro_X\")\n",
    "gyroY=widgets.FloatSlider(min=-500, max=500, description=\"Gyro_Y\")\n",
    "gyroZ=widgets.FloatSlider(min=-500, max=500, description=\"Gyro_Z\")\n",
    "MagneticX=widgets.FloatSlider(min=-500, max=500, description=\"Magnetic_X\")\n",
    "MagneticY=widgets.FloatSlider(min=-500, max=500, description=\"Magnetic_Y\")\n",
    "MagneticZ=widgets.FloatSlider(min=-500, max=500, description=\"Magnetic_Z\")\n",
    "eulerX=widgets.FloatSlider(min=-500, max=500, description=\"Euler_X\")\n",
    "eulerY=widgets.FloatSlider(min=-500, max=500, description=\"Euler_Y\")\n",
    "eulerZ=widgets.FloatSlider(min=-500, max=500, description=\"Euler_Z\")\n",
    "gravityX=widgets.FloatSlider(min=-500, max=500, description=\"Gravity_X\")\n",
    "gravityY=widgets.FloatSlider(min=-500, max=500, description=\"Gravity_Y\")\n",
    "gravityZ=widgets.FloatSlider(min=-500, max=500, description=\"Gravity_Z\")\n",
    "\n",
    "display(accX,accY,accZ,gyroX,gyroY,gyroZ,MagneticX,MagneticY,MagneticZ,eulerX,eulerY,eulerZ,gravityX,gravityY,gravityZ)"
   ]
  },
  {
   "cell_type": "code",
   "execution_count": null,
   "metadata": {},
   "outputs": [],
   "source": [
    "def axis9_loop():\n",
    "    while cont:\n",
    "        acc=autocar.getAccel()\n",
    "        gyro=autocar.getGyro()\n",
    "        magnetic=autocar.getMagnetic()\n",
    "        eu=autocar.getEuler()\n",
    "        gr=autocar.getGravity()\n",
    "\n",
    "        accX.value=acc[0]\n",
    "        accY.value=acc[1]\n",
    "        accZ.value=acc[2]\n",
    "        gyroX.value=gyro[0]\n",
    "        gyroY.value=gyro[1]\n",
    "        gyroZ.value=gyro[2]\n",
    "        MagneticX.value=magnetic[0]\n",
    "        MagneticY.value=magnetic[1]\n",
    "        MagneticZ.value=magnetic[2]\n",
    "        eulerX.value=eu[2]  # roll - x축, 좌우\n",
    "        eulerY.value=eu[1]  # pitch - y축, 앞뒤\n",
    "        eulerZ.value=eu[0]  # yaw - z축\n",
    "        gravityX.value=gr[0]\n",
    "        gravityY.value=gr[1]\n",
    "        gravityZ.value=gr[2]"
   ]
  },
  {
   "cell_type": "code",
   "execution_count": null,
   "metadata": {},
   "outputs": [],
   "source": [
    "cont = True\n",
    "Thread(target=axis9_loop).start()"
   ]
  },
  {
   "cell_type": "code",
   "execution_count": null,
   "metadata": {},
   "outputs": [],
   "source": [
    "cont = False"
   ]
  },
  {
   "cell_type": "markdown",
   "metadata": {},
   "source": [
    "<br>\n",
    "\n",
    "# 초음파 센서"
   ]
  },
  {
   "cell_type": "code",
   "execution_count": null,
   "metadata": {},
   "outputs": [],
   "source": [
    "import ipywidgets as widgets\n",
    "from pop.Pilot import AutoCar\n",
    "from threading import Thread\n",
    "\n",
    "autocar = AutoCar()"
   ]
  },
  {
   "cell_type": "code",
   "execution_count": null,
   "metadata": {},
   "outputs": [],
   "source": [
    "autocar.setSensorStatus(ultrasonic=1)"
   ]
  },
  {
   "cell_type": "code",
   "execution_count": null,
   "metadata": {},
   "outputs": [],
   "source": [
    "fr = widgets.IntSlider(max=180, description=\"front_right\")\n",
    "fl = widgets.IntSlider(max=180, description=\"front_left\")\n",
    "rr = widgets.IntSlider(max=180, description=\"rear_right\")\n",
    "rl = widgets.IntSlider(max=180, description=\"rear_left\")\n",
    "display(fr, fl, rr, rl)"
   ]
  },
  {
   "cell_type": "code",
   "execution_count": null,
   "metadata": {},
   "outputs": [],
   "source": [
    "def ultrasonic_loop():\n",
    "    while cont:\n",
    "        [[fl.value, fr.value], [rl.value, rr.value]] = autocar.getUltrasonic()"
   ]
  },
  {
   "cell_type": "code",
   "execution_count": null,
   "metadata": {},
   "outputs": [],
   "source": [
    "cont = True\n",
    "Thread(target=ultrasonic_loop).start()"
   ]
  },
  {
   "cell_type": "code",
   "execution_count": null,
   "metadata": {},
   "outputs": [],
   "source": [
    "cont = False"
   ]
  },
  {
   "cell_type": "markdown",
   "metadata": {},
   "source": [
    "<br>\n",
    "\n",
    "# 버저"
   ]
  },
  {
   "cell_type": "code",
   "execution_count": null,
   "metadata": {},
   "outputs": [],
   "source": [
    "import ipywidgets as widgets\n",
    "from pop.Pilot import AutoCar\n",
    "from threading import Thread\n",
    "import time\n",
    "\n",
    "autocar = AutoCar()"
   ]
  },
  {
   "cell_type": "code",
   "execution_count": null,
   "metadata": {},
   "outputs": [],
   "source": [
    "scale = widgets.IntSlider(min=1, max=12, description=\"scale\")         # 음계\n",
    "pitch = widgets.IntSlider(min=1, max=8, description=\"pitch\")          # 옥타브\n",
    "duration = widgets.IntSlider(min=1, max=10, description=\"duration\")   # 지속 시간\n",
    "display(scale, pitch, duration)"
   ]
  },
  {
   "cell_type": "code",
   "execution_count": null,
   "metadata": {},
   "outputs": [],
   "source": [
    "def buzzer_loop():\n",
    "    while cont:\n",
    "        autocar.alarm(scale=scale.value, pitch=pitch.value, duration=duration.value)\n",
    "        time.sleep(.5)"
   ]
  },
  {
   "cell_type": "code",
   "execution_count": null,
   "metadata": {},
   "outputs": [],
   "source": [
    "cont = True\n",
    "Thread(target=buzzer_loop).start()"
   ]
  },
  {
   "cell_type": "code",
   "execution_count": null,
   "metadata": {},
   "outputs": [],
   "source": [
    "cont = False"
   ]
  },
  {
   "cell_type": "markdown",
   "metadata": {},
   "source": [
    "<br>\n",
    "\n",
    "# LiDAR"
   ]
  },
  {
   "cell_type": "code",
   "execution_count": 1,
   "metadata": {},
   "outputs": [],
   "source": [
    "import ipywidgets as widgets\n",
    "from pop import Util\n",
    "from threading import Thread\n",
    "import numpy as np\n",
    "from pop.LiDAR  import Rplidar"
   ]
  },
  {
   "cell_type": "markdown",
   "metadata": {},
   "source": [
    "### Map"
   ]
  },
  {
   "cell_type": "code",
   "execution_count": 5,
   "metadata": {},
   "outputs": [],
   "source": [
    "lidar = Rplidar()\n",
    "lidar.connect()\n",
    "lidar.startMotor()"
   ]
  },
  {
   "cell_type": "code",
   "execution_count": 6,
   "metadata": {},
   "outputs": [
    {
     "data": {
      "text/plain": [
       "array([[4.39453125e-02, 2.63200000e+03, 4.70000000e+01],\n",
       "       [5.93261719e-01, 2.62400000e+03, 4.70000000e+01],\n",
       "       [1.15356445e+00, 2.61600000e+03, 4.70000000e+01],\n",
       "       ...,\n",
       "       [3.58374023e+02, 2.64800000e+03, 4.70000000e+01],\n",
       "       [3.58917847e+02, 2.64400000e+03, 4.70000000e+01],\n",
       "       [3.59483643e+02, 2.64000000e+03, 4.70000000e+01]])"
      ]
     },
     "execution_count": 6,
     "metadata": {},
     "output_type": "execute_result"
    }
   ],
   "source": []
  },
  {
   "cell_type": "code",
   "execution_count": 7,
   "metadata": {},
   "outputs": [],
   "source": [
    "def lidar_loop():   \n",
    "    while cont:\n",
    "        data=lidar.getMap(limit_distance=2000, size=(300,300))\n",
    "        Util.imshow(\"map\", data)"
   ]
  },
  {
   "cell_type": "code",
   "execution_count": null,
   "metadata": {},
   "outputs": [],
   "source": [
    "cont = True\n",
    "Thread(target=lidar_loop).start()"
   ]
  },
  {
   "cell_type": "code",
   "execution_count": null,
   "metadata": {},
   "outputs": [],
   "source": [
    "cont = False\n",
    "lidar.stopMotor()"
   ]
  },
  {
   "cell_type": "markdown",
   "metadata": {},
   "source": [
    "### Vector"
   ]
  },
  {
   "cell_type": "code",
   "execution_count": 36,
   "metadata": {},
   "outputs": [
    {
     "data": {
      "application/vnd.jupyter.widget-view+json": {
       "model_id": "5e5f93ccd35447d69ac59eb7abaa1381",
       "version_major": 2,
       "version_minor": 0
      },
      "text/plain": [
       "FloatSlider(value=487.0, description='zone_front', max=15000.0)"
      ]
     },
     "metadata": {},
     "output_type": "display_data"
    },
    {
     "data": {
      "application/vnd.jupyter.widget-view+json": {
       "model_id": "8c96689ab328461895014f445da255d0",
       "version_major": 2,
       "version_minor": 0
      },
      "text/plain": [
       "FloatSlider(value=626.0, description='zone_left', max=15000.0)"
      ]
     },
     "metadata": {},
     "output_type": "display_data"
    },
    {
     "data": {
      "application/vnd.jupyter.widget-view+json": {
       "model_id": "45c9246a622a46eeb45ac35f8306168d",
       "version_major": 2,
       "version_minor": 0
      },
      "text/plain": [
       "FloatSlider(value=368.0, description='zone_rear', max=15000.0)"
      ]
     },
     "metadata": {},
     "output_type": "display_data"
    },
    {
     "data": {
      "application/vnd.jupyter.widget-view+json": {
       "model_id": "4c4fea38d1354a469e1d1c9211e91bf7",
       "version_major": 2,
       "version_minor": 0
      },
      "text/plain": [
       "FloatSlider(value=372.0, description='zone_right', max=15000.0)"
      ]
     },
     "metadata": {},
     "output_type": "display_data"
    }
   ],
   "source": [
    "zone_front=widgets.FloatSlider(min=0, max=12000, description=\"zone_front\")\n",
    "zone_left=widgets.FloatSlider(min=0, max=12000, description=\"zone_left\")\n",
    "zone_rear=widgets.FloatSlider(min=0, max=12000, description=\"zone_rear\")\n",
    "zone_right=widgets.FloatSlider(min=0, max=12000, description=\"zone_right\")\n",
    "\n",
    "display(zone_front, zone_left, zone_rear, zone_right)"
   ]
  },
  {
   "cell_type": "code",
   "execution_count": 26,
   "metadata": {},
   "outputs": [],
   "source": [
    "lidar = Rplidar()\n",
    "lidar.connect()\n",
    "lidar.startMotor()"
   ]
  },
  {
   "cell_type": "code",
   "execution_count": 34,
   "metadata": {},
   "outputs": [],
   "source": [
    "def lidar_loop2():  \n",
    "    while cont2:\n",
    "        zone_front_val = []\n",
    "        zone_left_val = []\n",
    "        zone_rear_val = []\n",
    "        zone_right_val = [] \n",
    "\n",
    "        for v in lidar.getVectors():\n",
    "            if (v[0] >= (360-45) or v[0] < 45):\n",
    "                zone_front_val.append(v[1])\n",
    "            elif (v[0] >= 45 and v[0] < (90+45)):\n",
    "                zone_left_val.append(v[1])\n",
    "            elif (v[0] >= (90+45) and v[0] < 180+45):\n",
    "                zone_rear_val.append(v[1])\n",
    "            elif (v[0] >= (180+45) and v[0] < (360-45)):\n",
    "                zone_right_val.append(v[1])\n",
    "                \n",
    "        zone_front.value = min(zone_front_val) if zone_front_val else 0\n",
    "        zone_left.value = min(zone_left_val) if zone_left_val else 0\n",
    "        zone_rear.value = min(zone_rear_val) if zone_rear_val else 0\n",
    "        zone_right.value = min(zone_right_val) if zone_right_val else 0"
   ]
  },
  {
   "cell_type": "code",
   "execution_count": 35,
   "metadata": {},
   "outputs": [],
   "source": [
    "cont2 = True\n",
    "Thread(target=lidar_loop2).start()"
   ]
  },
  {
   "cell_type": "code",
   "execution_count": 25,
   "metadata": {},
   "outputs": [],
   "source": [
    "cont2 = False\n",
    "lidar.stopMotor()"
   ]
  },
  {
   "cell_type": "markdown",
   "metadata": {},
   "source": [
    "<br>\n",
    "\n",
    "# 장애물 회피"
   ]
  },
  {
   "cell_type": "code",
   "execution_count": null,
   "metadata": {},
   "outputs": [],
   "source": [
    "from pop import Pilot, AI\n",
    "\n",
    "cam=Pilot.Camera(width=300, height=300)\n",
    "cam.show()"
   ]
  },
  {
   "cell_type": "code",
   "execution_count": null,
   "metadata": {},
   "outputs": [],
   "source": [
    "cam.stop()"
   ]
  },
  {
   "cell_type": "code",
   "execution_count": null,
   "metadata": {},
   "outputs": [],
   "source": [
    "dataCollector=Pilot.Data_Collector(\"Collision_Avoid\", camera=cam)\n",
    "dataCollector.show()"
   ]
  },
  {
   "cell_type": "code",
   "execution_count": null,
   "metadata": {},
   "outputs": [],
   "source": [
    "CA=AI.Collision_Avoid(cam)\n",
    "CA.load_datasets()"
   ]
  },
  {
   "cell_type": "code",
   "execution_count": null,
   "metadata": {},
   "outputs": [],
   "source": [
    "CA.train(times=5)"
   ]
  },
  {
   "cell_type": "code",
   "execution_count": null,
   "metadata": {},
   "outputs": [],
   "source": [
    "value=CA.run()\n",
    "print(value)"
   ]
  },
  {
   "cell_type": "code",
   "execution_count": null,
   "metadata": {},
   "outputs": [],
   "source": [
    "CA.show()"
   ]
  },
  {
   "cell_type": "code",
   "execution_count": null,
   "metadata": {},
   "outputs": [],
   "source": [
    "Car=Pilot.AutoCar()\n",
    "\n",
    "def drive(value):\n",
    "    if value<=0.5:\n",
    "        Car.steering=-1\n",
    "    else:\n",
    "        Car.steering=1\n",
    "\n",
    "while True:\n",
    "    CA.run(callback=drive)"
   ]
  },
  {
   "cell_type": "markdown",
   "metadata": {},
   "source": [
    "<br>\n",
    "\n",
    "# 목표물 추적"
   ]
  },
  {
   "cell_type": "code",
   "execution_count": null,
   "metadata": {},
   "outputs": [],
   "source": [
    "from pop import AI, Camera, Pilot\n",
    "\n",
    "cam=Camera(width=300, height=300)\n",
    "\n",
    "OF=AI.Object_Follow(cam)\n",
    "OF.load_model()"
   ]
  },
  {
   "cell_type": "code",
   "execution_count": null,
   "metadata": {},
   "outputs": [],
   "source": [
    "v=OF.detect(index='person')\n",
    "print(v)"
   ]
  },
  {
   "cell_type": "code",
   "execution_count": null,
   "metadata": {},
   "outputs": [],
   "source": [
    "OF.show()"
   ]
  },
  {
   "cell_type": "code",
   "execution_count": null,
   "metadata": {},
   "outputs": [],
   "source": [
    "Car = Pilot.AutoCar()\n",
    "\n",
    "while True:\n",
    "    v=OF.detect(index='person')\n",
    " \n",
    "    if v is not None:\n",
    "        steer=v['x']*4\n",
    "\n",
    "        if steer > 1:\n",
    "            steer=1\n",
    "        elif steer < -1:\n",
    "            steer=-1\n",
    "\n",
    "        Car.steering=steer\n",
    "\n",
    "        if v['size_rate']<0.20:\n",
    "            Car.forward(50)\n",
    "        else:\n",
    "            Car.stop()\n",
    "    else:\n",
    "        Car.stop()"
   ]
  }
 ],
 "metadata": {
  "kernelspec": {
   "display_name": "Python 3",
   "language": "python",
   "name": "python3"
  },
  "language_info": {
   "codemirror_mode": {
    "name": "ipython",
    "version": 3
   },
   "file_extension": ".py",
   "mimetype": "text/x-python",
   "name": "python",
   "nbconvert_exporter": "python",
   "pygments_lexer": "ipython3",
   "version": "3.6.9"
  },
  "widgets": {
   "application/vnd.jupyter.widget-state+json": {
    "state": {
     "0253f6c98e5b4932aef5dd18a37fb5aa": {
      "model_module": "@jupyter-widgets/controls",
      "model_module_version": "1.5.0",
      "model_name": "IntSliderModel",
      "state": {
       "description": "Pan",
       "layout": "IPY_MODEL_8495fa41833745479e8c46ceb97808d5",
       "max": 180,
       "style": "IPY_MODEL_de6db3569aaf44cb98e070a15011435c",
       "value": 105
      }
     },
     "05adf7bf9a8a4176821f210dc1fc391e": {
      "model_module": "@jupyter-widgets/controls",
      "model_module_version": "1.5.0",
      "model_name": "SliderStyleModel",
      "state": {
       "description_width": ""
      }
     },
     "06146d797bfa4a0286edc3fd21a06b41": {
      "model_module": "@jupyter-widgets/controls",
      "model_module_version": "1.5.0",
      "model_name": "IntSliderModel",
      "state": {
       "description": "Speed",
       "layout": "IPY_MODEL_d1ae0d62afb54eeea6fb1f36fabd9d18",
       "max": 99,
       "style": "IPY_MODEL_1286581c19434638b4e0c68d32f905ff",
       "value": 16
      }
     },
     "0850e3b47f2049ad938fb6601daa7b13": {
      "model_module": "@jupyter-widgets/base",
      "model_module_version": "1.2.0",
      "model_name": "LayoutModel",
      "state": {}
     },
     "091315a109fb42309a13dda52e039755": {
      "model_module": "@jupyter-widgets/controls",
      "model_module_version": "1.5.0",
      "model_name": "SliderStyleModel",
      "state": {
       "description_width": ""
      }
     },
     "09c3b6dc16c649878d800703b2458361": {
      "model_module": "@jupyter-widgets/controls",
      "model_module_version": "1.5.0",
      "model_name": "IntSliderModel",
      "state": {
       "layout": "IPY_MODEL_c937fc91af1047a8b61458325bca27a0",
       "max": 5000,
       "style": "IPY_MODEL_fffbdcc1ca1b41e18f829a39795c6124",
       "value": 2586
      }
     },
     "0b51482a903c431b84991a4357dc2b92": {
      "model_module": "@jupyter-widgets/controls",
      "model_module_version": "1.5.0",
      "model_name": "SliderStyleModel",
      "state": {
       "description_width": ""
      }
     },
     "0f6190ddeb9b4b598eff8fdbcc33da07": {
      "model_module": "@jupyter-widgets/controls",
      "model_module_version": "1.5.0",
      "model_name": "FloatSliderModel",
      "state": {
       "description": "Magnetic_Z",
       "layout": "IPY_MODEL_cc516df9e48049fea2d49e7a5706b10d",
       "max": 500,
       "min": -500,
       "step": 0.1,
       "style": "IPY_MODEL_b5fe1af44160499fac0cd21345857c0e",
       "value": -40.375
      }
     },
     "10ac44a1462a4f9eb3def7f523157974": {
      "model_module": "@jupyter-widgets/controls",
      "model_module_version": "1.5.0",
      "model_name": "SliderStyleModel",
      "state": {
       "description_width": ""
      }
     },
     "11da62c8b6e144e8aa1adeaa7bd82f78": {
      "model_module": "@jupyter-widgets/controls",
      "model_module_version": "1.5.0",
      "model_name": "FloatSliderModel",
      "state": {
       "description": "Magnetic_Y",
       "layout": "IPY_MODEL_d264d604c0874ff2b5374cfd6e4cff57",
       "max": 500,
       "min": -500,
       "step": 0.1,
       "style": "IPY_MODEL_67708548cbcf4a59be5f0d08e2d7ebeb",
       "value": 14.688
      }
     },
     "1286581c19434638b4e0c68d32f905ff": {
      "model_module": "@jupyter-widgets/controls",
      "model_module_version": "1.5.0",
      "model_name": "SliderStyleModel",
      "state": {
       "description_width": ""
      }
     },
     "14f76c5cc47c443fa751d7afe9808dc5": {
      "model_module": "@jupyter-widgets/controls",
      "model_module_version": "1.5.0",
      "model_name": "SliderStyleModel",
      "state": {
       "description_width": ""
      }
     },
     "19623facd48a49b9b444fc004bfc8b46": {
      "model_module": "@jupyter-widgets/controls",
      "model_module_version": "1.5.0",
      "model_name": "FloatSliderModel",
      "state": {
       "description": "Gyro_Z",
       "layout": "IPY_MODEL_d48209d16be94ed292d3526cf8c713cc",
       "max": 500,
       "min": -500,
       "step": 0.1,
       "style": "IPY_MODEL_4498d9b8b2b54b5398a70f9c28a0056e",
       "value": -0.001
      }
     },
     "1ab3109bed264c9cb9a97cac399ed459": {
      "model_module": "@jupyter-widgets/controls",
      "model_module_version": "1.5.0",
      "model_name": "SliderStyleModel",
      "state": {
       "description_width": ""
      }
     },
     "1cad94c5ad78410b99a6eb87bd532d38": {
      "model_module": "@jupyter-widgets/base",
      "model_module_version": "1.2.0",
      "model_name": "LayoutModel",
      "state": {}
     },
     "1fb025cd83fe4b8c9ce04cddd1f5ab06": {
      "model_module": "@jupyter-widgets/controls",
      "model_module_version": "1.5.0",
      "model_name": "SliderStyleModel",
      "state": {
       "description_width": ""
      }
     },
     "2320d82fe53b44b5b4d445e25f200817": {
      "model_module": "@jupyter-widgets/controls",
      "model_module_version": "1.5.0",
      "model_name": "DescriptionStyleModel",
      "state": {
       "description_width": ""
      }
     },
     "25e130bd151b4c8e9d5266271478f1a9": {
      "model_module": "@jupyter-widgets/controls",
      "model_module_version": "1.5.0",
      "model_name": "IntSliderModel",
      "state": {
       "description": "duration",
       "layout": "IPY_MODEL_6cfb40dba52546228b8900b7f308aae7",
       "max": 10,
       "min": 1,
       "style": "IPY_MODEL_ead3ae3f6df64133bd5c03747ff4ea1a",
       "value": 3
      }
     },
     "2d4fdf664b744d98932aa1a9a7055593": {
      "model_module": "@jupyter-widgets/controls",
      "model_module_version": "1.5.0",
      "model_name": "SliderStyleModel",
      "state": {
       "description_width": ""
      }
     },
     "2f4e583283684323b2e2a1e416ace36e": {
      "model_module": "@jupyter-widgets/base",
      "model_module_version": "1.2.0",
      "model_name": "LayoutModel",
      "state": {}
     },
     "340d78082f1640bc99acc317d2522343": {
      "model_module": "@jupyter-widgets/base",
      "model_module_version": "1.2.0",
      "model_name": "LayoutModel",
      "state": {}
     },
     "3598077859094530b50cd559f9ed4a50": {
      "model_module": "@jupyter-widgets/base",
      "model_module_version": "1.2.0",
      "model_name": "LayoutModel",
      "state": {}
     },
     "36f16841a0cd4eceab8654a7aed55e4c": {
      "model_module": "@jupyter-widgets/controls",
      "model_module_version": "1.5.0",
      "model_name": "FloatSliderModel",
      "state": {
       "description": "Gyro_X",
       "layout": "IPY_MODEL_e656cf361d104609b508a65cb939fa0f",
       "max": 500,
       "min": -500,
       "step": 0.1,
       "style": "IPY_MODEL_091315a109fb42309a13dda52e039755",
       "value": -0.003
      }
     },
     "3a10baca537949b7a474c0d298765fb5": {
      "model_module": "@jupyter-widgets/base",
      "model_module_version": "1.2.0",
      "model_name": "LayoutModel",
      "state": {}
     },
     "3ca84bf9dfaa4165a6e58c6c504d96c7": {
      "model_module": "@jupyter-widgets/base",
      "model_module_version": "1.2.0",
      "model_name": "LayoutModel",
      "state": {}
     },
     "3d2a438799d14a4187baf657955bfcf1": {
      "model_module": "@jupyter-widgets/controls",
      "model_module_version": "1.5.0",
      "model_name": "SliderStyleModel",
      "state": {
       "description_width": ""
      }
     },
     "3da3beb993cd487c9470f68f4e22abf6": {
      "model_module": "@jupyter-widgets/base",
      "model_module_version": "1.2.0",
      "model_name": "LayoutModel",
      "state": {}
     },
     "41f909fee353476db9f1546ce949bd31": {
      "model_module": "@jupyter-widgets/controls",
      "model_module_version": "1.5.0",
      "model_name": "SliderStyleModel",
      "state": {
       "description_width": ""
      }
     },
     "43c658d3406748d3a699532ea478582f": {
      "model_module": "@jupyter-widgets/base",
      "model_module_version": "1.2.0",
      "model_name": "LayoutModel",
      "state": {}
     },
     "43d8eed3dcd94e1186a4384cedf18885": {
      "model_module": "@jupyter-widgets/controls",
      "model_module_version": "1.5.0",
      "model_name": "IntSliderModel",
      "state": {
       "description": "green",
       "layout": "IPY_MODEL_2f4e583283684323b2e2a1e416ace36e",
       "max": 255,
       "style": "IPY_MODEL_10ac44a1462a4f9eb3def7f523157974"
      }
     },
     "4498d9b8b2b54b5398a70f9c28a0056e": {
      "model_module": "@jupyter-widgets/controls",
      "model_module_version": "1.5.0",
      "model_name": "SliderStyleModel",
      "state": {
       "description_width": ""
      }
     },
     "48568e3cc74343f28e46204eca00a936": {
      "model_module": "@jupyter-widgets/controls",
      "model_module_version": "1.5.0",
      "model_name": "SliderStyleModel",
      "state": {
       "description_width": ""
      }
     },
     "49082af8a6e2476180aabb710cac3f7e": {
      "model_module": "@jupyter-widgets/base",
      "model_module_version": "1.2.0",
      "model_name": "LayoutModel",
      "state": {}
     },
     "4998ec896638433e87178e7449c03a6d": {
      "model_module": "@jupyter-widgets/controls",
      "model_module_version": "1.5.0",
      "model_name": "IntSliderModel",
      "state": {
       "description": "front",
       "layout": "IPY_MODEL_b8813ec9381e4e60942ff69c46465c1b",
       "max": 1,
       "style": "IPY_MODEL_ac016ca774ed40388ff72aab9008ce22"
      }
     },
     "4a50c4ad35114113bc0dbdc92453d607": {
      "model_module": "@jupyter-widgets/controls",
      "model_module_version": "1.5.0",
      "model_name": "IntSliderModel",
      "state": {
       "description": "pitch",
       "layout": "IPY_MODEL_633fa76fef42475888e44bc654ef50d9",
       "max": 8,
       "min": 1,
       "style": "IPY_MODEL_48568e3cc74343f28e46204eca00a936",
       "value": 2
      }
     },
     "4af9b0d92d2245d8aaaef90aa8791564": {
      "model_module": "@jupyter-widgets/controls",
      "model_module_version": "1.5.0",
      "model_name": "FloatSliderModel",
      "state": {
       "description": "Gravity_Z",
       "layout": "IPY_MODEL_a5dd63859f4b4b82ae7bd39d9b11f021",
       "max": 500,
       "min": -500,
       "step": 0.1,
       "style": "IPY_MODEL_ef4c2dbe8eba4a09adc8dd7df85f62a9",
       "value": 9.79
      }
     },
     "4c2cc8c9589e47e9b79e04d58f5ca8fc": {
      "model_module": "@jupyter-widgets/base",
      "model_module_version": "1.2.0",
      "model_name": "LayoutModel",
      "state": {}
     },
     "4cef00612de149f58c1b3580e55bc571": {
      "model_module": "@jupyter-widgets/controls",
      "model_module_version": "1.5.0",
      "model_name": "SliderStyleModel",
      "state": {
       "description_width": ""
      }
     },
     "4f16ac0dd26f4f0ab1d52e8f769aff14": {
      "model_module": "@jupyter-widgets/controls",
      "model_module_version": "1.5.0",
      "model_name": "FloatSliderModel",
      "state": {
       "description": "Euler_X",
       "layout": "IPY_MODEL_c30bf57111e341c7ad1cb31e04feb5a2",
       "max": 500,
       "min": -500,
       "step": 0.1,
       "style": "IPY_MODEL_c39d3c649f04479f9d0dac952ac91a8e",
       "value": -2.062
      }
     },
     "5777ded94bf2469fa901736accc65b8a": {
      "model_module": "@jupyter-widgets/controls",
      "model_module_version": "1.5.0",
      "model_name": "FloatSliderModel",
      "state": {
       "description": "Euler_Z",
       "layout": "IPY_MODEL_bf4e301036654b93af6a40f87593e11f",
       "max": 500,
       "min": -500,
       "step": 0.1,
       "style": "IPY_MODEL_4cef00612de149f58c1b3580e55bc571",
       "value": 49.312
      }
     },
     "59bd167cd3234fbcb84ae14faa60821b": {
      "model_module": "@jupyter-widgets/controls",
      "model_module_version": "1.5.0",
      "model_name": "SliderStyleModel",
      "state": {
       "description_width": ""
      }
     },
     "5a4177767ee343a3b13c138a70609b48": {
      "model_module": "@jupyter-widgets/controls",
      "model_module_version": "1.5.0",
      "model_name": "SliderStyleModel",
      "state": {
       "description_width": ""
      }
     },
     "5c6858b102c24c6d9f3f5921af5dac36": {
      "model_module": "@jupyter-widgets/controls",
      "model_module_version": "1.5.0",
      "model_name": "FloatSliderModel",
      "state": {
       "description": "Magnetic_Z",
       "layout": "IPY_MODEL_f5796a3225654f4d9871cd7b1e399fe0",
       "max": 500,
       "min": -500,
       "step": 0.1,
       "style": "IPY_MODEL_7d4d4e738cb14f549a8df36bd6654028",
       "value": -40.562
      }
     },
     "5ca7a7d8b6b646dfb823d63a3b20eb83": {
      "model_module": "@jupyter-widgets/controls",
      "model_module_version": "1.5.0",
      "model_name": "FloatSliderModel",
      "state": {
       "description": "Magnetic_X",
       "layout": "IPY_MODEL_a19b4870021a4b019236f50506be03cf",
       "max": 500,
       "min": -500,
       "step": 0.1,
       "style": "IPY_MODEL_5db5f92d57bc449db99515524bcc65d0",
       "value": -8.5
      }
     },
     "5ce0f9827c3a44bfb20bcf5e5be445bd": {
      "model_module": "@jupyter-widgets/controls",
      "model_module_version": "1.5.0",
      "model_name": "SliderStyleModel",
      "state": {
       "description_width": ""
      }
     },
     "5db5f92d57bc449db99515524bcc65d0": {
      "model_module": "@jupyter-widgets/controls",
      "model_module_version": "1.5.0",
      "model_name": "SliderStyleModel",
      "state": {
       "description_width": ""
      }
     },
     "5f63fabf34734385abbcc997911693cf": {
      "model_module": "@jupyter-widgets/controls",
      "model_module_version": "1.5.0",
      "model_name": "IntSliderModel",
      "state": {
       "description": "rear",
       "layout": "IPY_MODEL_60382d9790204b8390b9ece62bf29b7a",
       "max": 1,
       "style": "IPY_MODEL_05adf7bf9a8a4176821f210dc1fc391e"
      }
     },
     "60382d9790204b8390b9ece62bf29b7a": {
      "model_module": "@jupyter-widgets/base",
      "model_module_version": "1.2.0",
      "model_name": "LayoutModel",
      "state": {}
     },
     "606c539a29f44bf7a8f91f1e05ca1a1e": {
      "model_module": "@jupyter-widgets/base",
      "model_module_version": "1.2.0",
      "model_name": "LayoutModel",
      "state": {}
     },
     "61caa576992d405e892e514e4581f078": {
      "model_module": "@jupyter-widgets/controls",
      "model_module_version": "1.5.0",
      "model_name": "FloatSliderModel",
      "state": {
       "description": "Gravity_X",
       "layout": "IPY_MODEL_3598077859094530b50cd559f9ed4a50",
       "max": 500,
       "min": -500,
       "step": 0.1,
       "style": "IPY_MODEL_59bd167cd3234fbcb84ae14faa60821b",
       "value": 0.4
      }
     },
     "633fa76fef42475888e44bc654ef50d9": {
      "model_module": "@jupyter-widgets/base",
      "model_module_version": "1.2.0",
      "model_name": "LayoutModel",
      "state": {}
     },
     "63f8087765834ea69a5f4fd10c999843": {
      "model_module": "@jupyter-widgets/controls",
      "model_module_version": "1.5.0",
      "model_name": "SliderStyleModel",
      "state": {
       "description_width": ""
      }
     },
     "64b8e2c8c83a4e13b0c04e91c439309e": {
      "model_module": "@jupyter-widgets/base",
      "model_module_version": "1.2.0",
      "model_name": "LayoutModel",
      "state": {}
     },
     "65ecb0b3b6b24a53aa1b9cf3aaf82829": {
      "model_module": "@jupyter-widgets/controls",
      "model_module_version": "1.5.0",
      "model_name": "SliderStyleModel",
      "state": {
       "description_width": ""
      }
     },
     "67708548cbcf4a59be5f0d08e2d7ebeb": {
      "model_module": "@jupyter-widgets/controls",
      "model_module_version": "1.5.0",
      "model_name": "SliderStyleModel",
      "state": {
       "description_width": ""
      }
     },
     "6cfb40dba52546228b8900b7f308aae7": {
      "model_module": "@jupyter-widgets/base",
      "model_module_version": "1.2.0",
      "model_name": "LayoutModel",
      "state": {}
     },
     "6d9c04e11e3249268d2b7bc12ee5f786": {
      "model_module": "@jupyter-widgets/controls",
      "model_module_version": "1.5.0",
      "model_name": "SliderStyleModel",
      "state": {
       "description_width": ""
      }
     },
     "6e2251f7d1bc473d9909d655c2617749": {
      "model_module": "@jupyter-widgets/controls",
      "model_module_version": "1.5.0",
      "model_name": "FloatSliderModel",
      "state": {
       "description": "Gyro_Y",
       "layout": "IPY_MODEL_768cc8b70fcc45849e555bb0711ca486",
       "max": 500,
       "min": -500,
       "step": 0.1,
       "style": "IPY_MODEL_c76c722d80c047ae941c825e2611d005",
       "value": 0.002
      }
     },
     "6e4c026ec4f944ca9a879e0ffd9fee76": {
      "model_module": "@jupyter-widgets/base",
      "model_module_version": "1.2.0",
      "model_name": "LayoutModel",
      "state": {}
     },
     "6f3d242255ed448e8adbd4a310b8d99b": {
      "model_module": "@jupyter-widgets/base",
      "model_module_version": "1.2.0",
      "model_name": "LayoutModel",
      "state": {}
     },
     "72e4fc55fe1843ba8a50f0b75de737f6": {
      "model_module": "@jupyter-widgets/controls",
      "model_module_version": "1.5.0",
      "model_name": "FloatSliderModel",
      "state": {
       "description": "Gyro_Z",
       "layout": "IPY_MODEL_e2bb808e389d48ad9d92d200c0fbb9d5",
       "max": 500,
       "min": -500,
       "step": 0.1,
       "style": "IPY_MODEL_dd4ac817a78146418f8952b24a692e2f"
      }
     },
     "736e4f6108be4becb7e289563b4f8f93": {
      "model_module": "@jupyter-widgets/controls",
      "model_module_version": "1.5.0",
      "model_name": "FloatSliderModel",
      "state": {
       "description": "Euler_Z",
       "layout": "IPY_MODEL_0850e3b47f2049ad938fb6601daa7b13",
       "max": 500,
       "min": -500,
       "step": 0.1,
       "style": "IPY_MODEL_5ce0f9827c3a44bfb20bcf5e5be445bd",
       "value": 35
      }
     },
     "768cc8b70fcc45849e555bb0711ca486": {
      "model_module": "@jupyter-widgets/base",
      "model_module_version": "1.2.0",
      "model_name": "LayoutModel",
      "state": {}
     },
     "76a109e8c816487fb8b449d0435992db": {
      "model_module": "@jupyter-widgets/controls",
      "model_module_version": "1.5.0",
      "model_name": "SliderStyleModel",
      "state": {
       "description_width": ""
      }
     },
     "7d4d4e738cb14f549a8df36bd6654028": {
      "model_module": "@jupyter-widgets/controls",
      "model_module_version": "1.5.0",
      "model_name": "SliderStyleModel",
      "state": {
       "description_width": ""
      }
     },
     "8495fa41833745479e8c46ceb97808d5": {
      "model_module": "@jupyter-widgets/base",
      "model_module_version": "1.2.0",
      "model_name": "LayoutModel",
      "state": {}
     },
     "8a2f2e485e3f43e6861d4d21f867e8d1": {
      "model_module": "@jupyter-widgets/controls",
      "model_module_version": "1.5.0",
      "model_name": "FloatSliderModel",
      "state": {
       "description": "Gravity_Y",
       "layout": "IPY_MODEL_1cad94c5ad78410b99a6eb87bd532d38",
       "max": 500,
       "min": -500,
       "step": 0.1,
       "style": "IPY_MODEL_0b51482a903c431b84991a4357dc2b92",
       "value": 0.36
      }
     },
     "8c696bfc259f482b9bbb46b013d05192": {
      "model_module": "@jupyter-widgets/controls",
      "model_module_version": "1.5.0",
      "model_name": "FloatSliderModel",
      "state": {
       "description": "Acc_Z",
       "layout": "IPY_MODEL_43c658d3406748d3a699532ea478582f",
       "max": 500,
       "min": -500,
       "step": 0.1,
       "style": "IPY_MODEL_98409d01b9074c179b667d63d89a47a5",
       "value": 9.85
      }
     },
     "8ef8c23aee2c4efabc4bf16d2c3d6f43": {
      "model_module": "@jupyter-widgets/controls",
      "model_module_version": "1.5.0",
      "model_name": "SliderStyleModel",
      "state": {
       "description_width": ""
      }
     },
     "93e8d912ee5c4c9aaa12408eb5935f65": {
      "model_module": "@jupyter-widgets/controls",
      "model_module_version": "1.5.0",
      "model_name": "FloatSliderModel",
      "state": {
       "description": "Gravity_Z",
       "layout": "IPY_MODEL_606c539a29f44bf7a8f91f1e05ca1a1e",
       "max": 500,
       "min": -500,
       "step": 0.1,
       "style": "IPY_MODEL_76a109e8c816487fb8b449d0435992db",
       "value": 9.79
      }
     },
     "98409d01b9074c179b667d63d89a47a5": {
      "model_module": "@jupyter-widgets/controls",
      "model_module_version": "1.5.0",
      "model_name": "SliderStyleModel",
      "state": {
       "description_width": ""
      }
     },
     "99d7075af3664b9ebee03afc571b0cf6": {
      "model_module": "@jupyter-widgets/controls",
      "model_module_version": "1.5.0",
      "model_name": "IntSliderModel",
      "state": {
       "description": "Speed",
       "layout": "IPY_MODEL_64b8e2c8c83a4e13b0c04e91c439309e",
       "max": 99,
       "style": "IPY_MODEL_8ef8c23aee2c4efabc4bf16d2c3d6f43"
      }
     },
     "9b26985484e44b6087c2c1a97f5ce118": {
      "model_module": "@jupyter-widgets/controls",
      "model_module_version": "1.5.0",
      "model_name": "SliderStyleModel",
      "state": {
       "description_width": ""
      }
     },
     "a19b4870021a4b019236f50506be03cf": {
      "model_module": "@jupyter-widgets/base",
      "model_module_version": "1.2.0",
      "model_name": "LayoutModel",
      "state": {}
     },
     "a4c2804be71f462287f25264a3c6a644": {
      "model_module": "@jupyter-widgets/base",
      "model_module_version": "1.2.0",
      "model_name": "LayoutModel",
      "state": {}
     },
     "a5dd63859f4b4b82ae7bd39d9b11f021": {
      "model_module": "@jupyter-widgets/base",
      "model_module_version": "1.2.0",
      "model_name": "LayoutModel",
      "state": {}
     },
     "a604e9b0ad064731947019d9d2f3bab5": {
      "model_module": "@jupyter-widgets/controls",
      "model_module_version": "1.5.0",
      "model_name": "FloatSliderModel",
      "state": {
       "description": "Steer",
       "layout": "IPY_MODEL_cb46211d3b2d4cc1bcf31da15aa6edaa",
       "max": 1,
       "min": -1,
       "step": 0.1,
       "style": "IPY_MODEL_63f8087765834ea69a5f4fd10c999843",
       "value": -0.2
      }
     },
     "a88be5a26b6c436a8e68fc5d7175df4b": {
      "model_module": "@jupyter-widgets/controls",
      "model_module_version": "1.5.0",
      "model_name": "SliderStyleModel",
      "state": {
       "description_width": ""
      }
     },
     "ac016ca774ed40388ff72aab9008ce22": {
      "model_module": "@jupyter-widgets/controls",
      "model_module_version": "1.5.0",
      "model_name": "SliderStyleModel",
      "state": {
       "description_width": ""
      }
     },
     "ad5471fc69de474e813c29a99dbcd50b": {
      "model_module": "@jupyter-widgets/controls",
      "model_module_version": "1.5.0",
      "model_name": "IntSliderModel",
      "state": {
       "description": "blue",
       "layout": "IPY_MODEL_49082af8a6e2476180aabb710cac3f7e",
       "max": 255,
       "style": "IPY_MODEL_9b26985484e44b6087c2c1a97f5ce118"
      }
     },
     "b04236feeb97455b9c5b568456e6c400": {
      "model_module": "@jupyter-widgets/controls",
      "model_module_version": "1.5.0",
      "model_name": "IntSliderModel",
      "state": {
       "description": "rear_left",
       "layout": "IPY_MODEL_4c2cc8c9589e47e9b79e04d58f5ca8fc",
       "max": 180,
       "style": "IPY_MODEL_5a4177767ee343a3b13c138a70609b48",
       "value": 180
      }
     },
     "b315971d8848422085dffa9c6590237c": {
      "model_module": "@jupyter-widgets/controls",
      "model_module_version": "1.5.0",
      "model_name": "IntSliderModel",
      "state": {
       "description": "Tilt",
       "layout": "IPY_MODEL_6f3d242255ed448e8adbd4a310b8d99b",
       "max": 120,
       "style": "IPY_MODEL_14f76c5cc47c443fa751d7afe9808dc5"
      }
     },
     "b5ee6aef137c406184573abd0347f59f": {
      "model_module": "@jupyter-widgets/controls",
      "model_module_version": "1.5.0",
      "model_name": "IntSliderModel",
      "state": {
       "description": "red",
       "layout": "IPY_MODEL_6e4c026ec4f944ca9a879e0ffd9fee76",
       "max": 255,
       "style": "IPY_MODEL_1fb025cd83fe4b8c9ce04cddd1f5ab06"
      }
     },
     "b5fe1af44160499fac0cd21345857c0e": {
      "model_module": "@jupyter-widgets/controls",
      "model_module_version": "1.5.0",
      "model_name": "SliderStyleModel",
      "state": {
       "description_width": ""
      }
     },
     "b7a0e0b76944447695eeec5175140ebe": {
      "model_module": "@jupyter-widgets/base",
      "model_module_version": "1.2.0",
      "model_name": "LayoutModel",
      "state": {}
     },
     "b8813ec9381e4e60942ff69c46465c1b": {
      "model_module": "@jupyter-widgets/base",
      "model_module_version": "1.2.0",
      "model_name": "LayoutModel",
      "state": {}
     },
     "b8c56aadbb544f4493db33ad8eadd780": {
      "model_module": "@jupyter-widgets/controls",
      "model_module_version": "1.5.0",
      "model_name": "SliderStyleModel",
      "state": {
       "description_width": ""
      }
     },
     "bb89b34dc33f4f1c8e3dcd8800e7d876": {
      "model_module": "@jupyter-widgets/base",
      "model_module_version": "1.2.0",
      "model_name": "LayoutModel",
      "state": {}
     },
     "bce1445e1c184d17854f67d610fee722": {
      "model_module": "@jupyter-widgets/controls",
      "model_module_version": "1.5.0",
      "model_name": "SliderStyleModel",
      "state": {
       "description_width": ""
      }
     },
     "be51065891674e24bc8269f83157bb7a": {
      "model_module": "@jupyter-widgets/controls",
      "model_module_version": "1.5.0",
      "model_name": "DescriptionStyleModel",
      "state": {
       "description_width": ""
      }
     },
     "bf4e301036654b93af6a40f87593e11f": {
      "model_module": "@jupyter-widgets/base",
      "model_module_version": "1.2.0",
      "model_name": "LayoutModel",
      "state": {}
     },
     "bf5811809b8a46668c2290746e9abd89": {
      "model_module": "@jupyter-widgets/base",
      "model_module_version": "1.2.0",
      "model_name": "LayoutModel",
      "state": {}
     },
     "bf59ba42f25049e4ad79ba3ffbd298dd": {
      "model_module": "@jupyter-widgets/controls",
      "model_module_version": "1.5.0",
      "model_name": "IntSliderModel",
      "state": {
       "description": "front_right",
       "layout": "IPY_MODEL_bb89b34dc33f4f1c8e3dcd8800e7d876",
       "max": 180,
       "style": "IPY_MODEL_bce1445e1c184d17854f67d610fee722",
       "value": 43
      }
     },
     "c30bf57111e341c7ad1cb31e04feb5a2": {
      "model_module": "@jupyter-widgets/base",
      "model_module_version": "1.2.0",
      "model_name": "LayoutModel",
      "state": {}
     },
     "c35d7be233e44fb3bdf422a1e9768376": {
      "model_module": "@jupyter-widgets/controls",
      "model_module_version": "1.5.0",
      "model_name": "SliderStyleModel",
      "state": {
       "description_width": ""
      }
     },
     "c39d3c649f04479f9d0dac952ac91a8e": {
      "model_module": "@jupyter-widgets/controls",
      "model_module_version": "1.5.0",
      "model_name": "SliderStyleModel",
      "state": {
       "description_width": ""
      }
     },
     "c76c722d80c047ae941c825e2611d005": {
      "model_module": "@jupyter-widgets/controls",
      "model_module_version": "1.5.0",
      "model_name": "SliderStyleModel",
      "state": {
       "description_width": ""
      }
     },
     "c8d2c491e9054800a340a691e2d32908": {
      "model_module": "@jupyter-widgets/controls",
      "model_module_version": "1.5.0",
      "model_name": "FloatSliderModel",
      "state": {
       "description": "Acc_Y",
       "layout": "IPY_MODEL_bf5811809b8a46668c2290746e9abd89",
       "max": 500,
       "min": -500,
       "step": 0.1,
       "style": "IPY_MODEL_a88be5a26b6c436a8e68fc5d7175df4b",
       "value": 0.37
      }
     },
     "c937fc91af1047a8b61458325bca27a0": {
      "model_module": "@jupyter-widgets/base",
      "model_module_version": "1.2.0",
      "model_name": "LayoutModel",
      "state": {}
     },
     "cb30de14029940cf8d90496ae844c8ee": {
      "model_module": "@jupyter-widgets/controls",
      "model_module_version": "1.5.0",
      "model_name": "FloatSliderModel",
      "state": {
       "description": "Euler_Y",
       "layout": "IPY_MODEL_e5bac616817a434a81036f31f41a9418",
       "max": 500,
       "min": -500,
       "step": 0.1,
       "style": "IPY_MODEL_65ecb0b3b6b24a53aa1b9cf3aaf82829",
       "value": 2.312
      }
     },
     "cb46211d3b2d4cc1bcf31da15aa6edaa": {
      "model_module": "@jupyter-widgets/base",
      "model_module_version": "1.2.0",
      "model_name": "LayoutModel",
      "state": {}
     },
     "cc516df9e48049fea2d49e7a5706b10d": {
      "model_module": "@jupyter-widgets/base",
      "model_module_version": "1.2.0",
      "model_name": "LayoutModel",
      "state": {}
     },
     "cfcd1bc8e13d4e6b98b34fc4e82c53c3": {
      "model_module": "@jupyter-widgets/base",
      "model_module_version": "1.2.0",
      "model_name": "LayoutModel",
      "state": {}
     },
     "d1ae0d62afb54eeea6fb1f36fabd9d18": {
      "model_module": "@jupyter-widgets/base",
      "model_module_version": "1.2.0",
      "model_name": "LayoutModel",
      "state": {}
     },
     "d264d604c0874ff2b5374cfd6e4cff57": {
      "model_module": "@jupyter-widgets/base",
      "model_module_version": "1.2.0",
      "model_name": "LayoutModel",
      "state": {}
     },
     "d48209d16be94ed292d3526cf8c713cc": {
      "model_module": "@jupyter-widgets/base",
      "model_module_version": "1.2.0",
      "model_name": "LayoutModel",
      "state": {}
     },
     "d62aff8e326e4fb3b3be9161cb91ef32": {
      "model_module": "@jupyter-widgets/controls",
      "model_module_version": "1.5.0",
      "model_name": "FloatSliderModel",
      "state": {
       "description": "Acc_Z",
       "layout": "IPY_MODEL_3a10baca537949b7a474c0d298765fb5",
       "max": 500,
       "min": -500,
       "step": 0.1,
       "style": "IPY_MODEL_3d2a438799d14a4187baf657955bfcf1",
       "value": 9.86
      }
     },
     "d8182935d84f4599a065fe1a2fcbdf5d": {
      "model_module": "@jupyter-widgets/base",
      "model_module_version": "1.2.0",
      "model_name": "LayoutModel",
      "state": {}
     },
     "d9e924cb0e684b78aab8b8c340f150d9": {
      "model_module": "@jupyter-widgets/controls",
      "model_module_version": "1.5.0",
      "model_name": "IntSliderModel",
      "state": {
       "description": "front_left",
       "layout": "IPY_MODEL_3ca84bf9dfaa4165a6e58c6c504d96c7",
       "max": 180,
       "style": "IPY_MODEL_1ab3109bed264c9cb9a97cac399ed459",
       "value": 71
      }
     },
     "da9a10e2e42c4d54bcfbed834020cbd7": {
      "model_module": "@jupyter-widgets/controls",
      "model_module_version": "1.5.0",
      "model_name": "FloatSliderModel",
      "state": {
       "description": "Acc_X",
       "layout": "IPY_MODEL_340d78082f1640bc99acc317d2522343",
       "max": 500,
       "min": -500,
       "step": 0.1,
       "style": "IPY_MODEL_6d9c04e11e3249268d2b7bc12ee5f786",
       "value": 0.36
      }
     },
     "dc3db19191af4bafa66ecec991981032": {
      "model_module": "@jupyter-widgets/base",
      "model_module_version": "1.2.0",
      "model_name": "LayoutModel",
      "state": {}
     },
     "dd4ac817a78146418f8952b24a692e2f": {
      "model_module": "@jupyter-widgets/controls",
      "model_module_version": "1.5.0",
      "model_name": "SliderStyleModel",
      "state": {
       "description_width": ""
      }
     },
     "de6341569c5d49cbb83a9bc4c6687b45": {
      "model_module": "@jupyter-widgets/controls",
      "model_module_version": "1.5.0",
      "model_name": "IntSliderModel",
      "state": {
       "description": "number",
       "layout": "IPY_MODEL_b7a0e0b76944447695eeec5175140ebe",
       "max": 8,
       "style": "IPY_MODEL_2d4fdf664b744d98932aa1a9a7055593"
      }
     },
     "de6db3569aaf44cb98e070a15011435c": {
      "model_module": "@jupyter-widgets/controls",
      "model_module_version": "1.5.0",
      "model_name": "SliderStyleModel",
      "state": {
       "description_width": ""
      }
     },
     "e2bb808e389d48ad9d92d200c0fbb9d5": {
      "model_module": "@jupyter-widgets/base",
      "model_module_version": "1.2.0",
      "model_name": "LayoutModel",
      "state": {}
     },
     "e5bac616817a434a81036f31f41a9418": {
      "model_module": "@jupyter-widgets/base",
      "model_module_version": "1.2.0",
      "model_name": "LayoutModel",
      "state": {}
     },
     "e656cf361d104609b508a65cb939fa0f": {
      "model_module": "@jupyter-widgets/base",
      "model_module_version": "1.2.0",
      "model_name": "LayoutModel",
      "state": {}
     },
     "ead3ae3f6df64133bd5c03747ff4ea1a": {
      "model_module": "@jupyter-widgets/controls",
      "model_module_version": "1.5.0",
      "model_name": "SliderStyleModel",
      "state": {
       "description_width": ""
      }
     },
     "ef0bb2df2b2b4079a33463d0b75eb142": {
      "model_module": "@jupyter-widgets/controls",
      "model_module_version": "1.5.0",
      "model_name": "DropdownModel",
      "state": {
       "_options_labels": [
        "Stop",
        "Forward",
        "Backward"
       ],
       "description": "Driving",
       "index": 0,
       "layout": "IPY_MODEL_d8182935d84f4599a065fe1a2fcbdf5d",
       "style": "IPY_MODEL_be51065891674e24bc8269f83157bb7a"
      }
     },
     "ef4c2dbe8eba4a09adc8dd7df85f62a9": {
      "model_module": "@jupyter-widgets/controls",
      "model_module_version": "1.5.0",
      "model_name": "SliderStyleModel",
      "state": {
       "description_width": ""
      }
     },
     "f41e6b2c9d414bd9b485597cbb68bc39": {
      "model_module": "@jupyter-widgets/controls",
      "model_module_version": "1.5.0",
      "model_name": "IntSliderModel",
      "state": {
       "description": "rear_right",
       "layout": "IPY_MODEL_a4c2804be71f462287f25264a3c6a644",
       "max": 180,
       "style": "IPY_MODEL_41f909fee353476db9f1546ce949bd31",
       "value": 180
      }
     },
     "f427728fda914a858799356b3cae84ae": {
      "model_module": "@jupyter-widgets/controls",
      "model_module_version": "1.5.0",
      "model_name": "DropdownModel",
      "state": {
       "_options_labels": [
        "Stop",
        "Forward",
        "Backward"
       ],
       "description": "Driving",
       "index": 0,
       "layout": "IPY_MODEL_3da3beb993cd487c9470f68f4e22abf6",
       "style": "IPY_MODEL_2320d82fe53b44b5b4d445e25f200817"
      }
     },
     "f5796a3225654f4d9871cd7b1e399fe0": {
      "model_module": "@jupyter-widgets/base",
      "model_module_version": "1.2.0",
      "model_name": "LayoutModel",
      "state": {}
     },
     "fdf6b46c449e4efa9e6c4a46488a6a11": {
      "model_module": "@jupyter-widgets/controls",
      "model_module_version": "1.5.0",
      "model_name": "IntSliderModel",
      "state": {
       "description": "scale",
       "layout": "IPY_MODEL_dc3db19191af4bafa66ecec991981032",
       "max": 12,
       "min": 1,
       "style": "IPY_MODEL_c35d7be233e44fb3bdf422a1e9768376",
       "value": 5
      }
     },
     "fe76670630574e529c0b4bfe3c137925": {
      "model_module": "@jupyter-widgets/controls",
      "model_module_version": "1.5.0",
      "model_name": "FloatSliderModel",
      "state": {
       "description": "Steer",
       "layout": "IPY_MODEL_cfcd1bc8e13d4e6b98b34fc4e82c53c3",
       "max": 1,
       "min": -1,
       "step": 0.1,
       "style": "IPY_MODEL_b8c56aadbb544f4493db33ad8eadd780"
      }
     },
     "fffbdcc1ca1b41e18f829a39795c6124": {
      "model_module": "@jupyter-widgets/controls",
      "model_module_version": "1.5.0",
      "model_name": "SliderStyleModel",
      "state": {
       "description_width": ""
      }
     }
    },
    "version_major": 2,
    "version_minor": 0
   }
  }
 },
 "nbformat": 4,
 "nbformat_minor": 4
}
