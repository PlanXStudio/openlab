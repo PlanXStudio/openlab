{
 "cells": [
  {
   "cell_type": "code",
   "execution_count": null,
   "metadata": {},
   "outputs": [],
   "source": [
    "#[win] Enable-WindowsOptionalFeature -Online -FeatureName Microsoft-Hyper-V -All"
   ]
  },
  {
   "cell_type": "code",
   "execution_count": null,
   "metadata": {},
   "outputs": [],
   "source": [
    "#[win] wsl -u root ifconfig eth0 192.168.0.120\n",
    "#[win] wsl -u root route add default gw 192.168.0.1 eth0\n",
    "#[win] wsl -u root echo nameserver 164.124.101.2 ^> /etc/resolv.conf"
   ]
  },
  {
   "cell_type": "markdown",
   "metadata": {},
   "source": [
    "*/usr/local/bin/net.sh*\n",
    "```sh\n",
    "ifconfig eth0 192.168.0.22\n",
    "route add default gw 192.168.0.1 eth0\n",
    "echo nameserver 164.124.101.2 > /etc/resolv.conf\n",
    "```"
   ]
  },
  {
   "cell_type": "markdown",
   "metadata": {},
   "source": [
    "*/etc/wsl.conf*\n",
    "```sh\n",
    "[network]\n",
    "generateResolvConf = false\n",
    "hostname = toheaven\n",
    "\n",
    "[boot]\n",
    "command = /usr/local/bin/net.sh\n",
    "```"
   ]
  }
 ],
 "metadata": {
  "kernelspec": {
   "display_name": "Python 3.8.10 64-bit",
   "language": "python",
   "name": "python3"
  },
  "language_info": {
   "codemirror_mode": {
    "name": "ipython",
    "version": 3
   },
   "file_extension": ".py",
   "mimetype": "text/x-python",
   "name": "python",
   "nbconvert_exporter": "python",
   "pygments_lexer": "ipython3",
   "version": "3.8.10"
  },
  "orig_nbformat": 4,
  "vscode": {
   "interpreter": {
    "hash": "916dbcbb3f70747c44a77c7bcd40155683ae19c65e1c03b4aa3499c5328201f1"
   }
  }
 },
 "nbformat": 4,
 "nbformat_minor": 2
}
